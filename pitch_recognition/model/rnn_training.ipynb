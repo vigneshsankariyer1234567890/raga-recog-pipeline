{
 "cells": [
  {
   "cell_type": "markdown",
   "metadata": {},
   "source": [
    "**Data Preprocessing**"
   ]
  },
  {
   "cell_type": "markdown",
   "metadata": {},
   "source": [
    "Build Dataset"
   ]
  },
  {
   "cell_type": "code",
   "execution_count": 2,
   "metadata": {},
   "outputs": [
    {
     "name": "stdout",
     "output_type": "stream",
     "text": [
      "Raag Shree by Deborshee Bhattacharya\n",
      "Raag Shree\n",
      "Raag Lagan Gandhar & Nirgun Bhajan by Kumar Gandharva\n",
      "Nirgun Bhajan\n",
      "Raag Lagan Gandhar\n",
      "Raag Kalyan, Bhimpalasi & Dhani by Satyasheel Deshpande\n",
      "Raag Dhani\n",
      "Raag Bhimpalasi\n",
      "Raag Kalyan\n",
      "Raag Bageshree & Bhairavi Bhajan by Satyasheel Deshpande\n",
      "Bhairavi Bhajan\n",
      "Raag Bageshree\n",
      "Raag Kedar & Jog by Ajoy Chakrabarty\n",
      "Raag Kedar\n",
      "Raag Jog\n",
      ".DS_Store\n",
      "Hindustani Alaps by Kaustuv Kanti Ganguli\n",
      "Raag Lalit\n",
      "Raag Marwa\n",
      "Raag Yaman\n",
      "Raag Bilaskhani Todi\n",
      "Raag Madhukauns\n",
      "Raag Desh\n",
      "Raag Puriya Dhanashree\n",
      "Raag Miyan Malhar\n",
      "Raag Bhairav & Dhani by Kumar Gandharva\n",
      "Raag Bhairav\n",
      "Raag Dhani\n",
      "Raag Abhogi, Rageshree & Khamaj by Ajoy Chakrabarty\n",
      "Raag Abhogi\n",
      ".DS_Store\n",
      "Raag Khamaj\n",
      "Raag Rageshri\n",
      "Raag Mian Malhar & Ramdasi Malhar by Deborshee Bhattacharya\n",
      "Raag Mian Malhar\n",
      ".DS_Store\n",
      "Raag Ramdasi Malhar\n",
      "Raag Marwa & Shree by Omkar Dadarkar\n",
      "Raag Marwa\n",
      "Raag Shree\n",
      "Raag Bihag by Deborshee Bhattacharya\n",
      "Raag Bihag\n",
      "Raag Mian Malhar & Ramdasi Malhar by Satyasheel Deshpande\n",
      "Raag Mian Malhar\n",
      "Raag Ramdasi Malhar\n",
      "Raag Bahar, Gaud Malhar & Yaman by Omkar Dadarkar\n",
      "Raag Bahar\n",
      "Raag Yaman\n",
      "Raag Gaud Malhar\n",
      "Raag Lalit & Bibhas by Omkar Dadarkar\n",
      "Raag Lalit\n",
      ".DS_Store\n",
      "Raag Bibhas\n",
      "Raag Shree, Lalit Pancham & Bhairavi Thumri by Kaustuv Kanti Ganguli\n",
      "Raag Lalit Pancham\n",
      "Bhairavi Thumri\n",
      "Raag Shree\n",
      "Raag Bhimpalasi & Multani by Omkar Dadarkar\n",
      "Raag Multani\n",
      "Raag Bhimpalasi\n",
      "Raag Jog & Kirwani Bhajan by Kaustuv Kanti Ganguli\n",
      "Raag Jog\n",
      "Kirwani Bhajan\n",
      "Raag Bhatiyar & Bhairavi Thumri by Kaustuv Kanti Ganguli\n",
      "Raag Bhatiyar\n",
      "Bhairavi Thumri\n",
      "Raag Abhogi & Megh by Anol Chatterjee\n",
      "Raag Abhogi\n",
      ".DS_Store\n",
      "Raag Megh\n",
      "Raag Puriya & Bhimpalasi by Brajeshwar Mukherjee\n",
      ".DS_Store\n",
      "Raag Bhimpalasi\n",
      "Raag Puriya\n",
      "Raag Sawani & Bahar by Ulhas Kashalkar\n",
      "Raag Bahar\n",
      "Raag Sawani\n",
      "New Signature by Brajeshwar Mukherjee\n",
      "Irani Bhairavi Thumri\n",
      ".DS_Store\n",
      "Raag Bairagi\n",
      "Raag Saraswati\n",
      "Raag Todi by Kumar Gandharva\n",
      "Raag Todi\n",
      "Raag Malkauns, Chandrakauns & Majh Khamaj Thumri by Satyasheel Deshpande\n",
      "Raag Chandrakauns\n",
      "Majh Khamaj Thumri\n",
      "Raag Malkauns\n",
      "Raag Jog & Hameer by Brajeshwar Mukherjee\n",
      "Raag Hameer\n",
      "Raag Jog\n",
      "Geetinandan : Part-3 by Ajoy Chakrabarty\n",
      "Bairagi\n",
      ".DS_Store\n",
      "Taal and Sur of Thekas\n",
      "Shrutinandan Concept - an Introduction by Pandit Ajoy Chakrabarty\n",
      "Malkauns\n",
      "Multani\n",
      "Todi\n",
      "Nat Bhairon\n",
      "Aahir Bhairon\n",
      "Sudh Sarang\n",
      "Raageshree\n",
      "Sudh Kalyan\n",
      "Lyrics of all the Bandishes\n",
      "Bilaskhani Todi\n",
      "Maru Bihag\n",
      "Kalavati\n",
      "Raag Marwa & Hameer by Sameehan Kashalkar\n",
      "Raag Marwa\n",
      "Raag Hameer\n",
      "Raag Ahir Bhairon & Todi by Omkar Dadarkar\n",
      "Raag Ahir Bhairon\n",
      "Raag Todi\n",
      "Raag Poorva & Gaud Malhar by Sameehan Kashalkar\n",
      "Raag Poorva\n",
      "Raag Gaud Malhar\n",
      "Raag Bihag & Bhairavi Dadra by Omkar Dadarkar\n",
      "Bhairavi Dadra\n",
      "Raag Bihag\n",
      "Raag Bhoopali & Paraj by Sameehan Kashalkar\n",
      "Raag Paraj\n",
      "Raag Bhoopali\n",
      "Raag Kedar & Sohani by Sameehan Kashalkar\n",
      ".DS_Store\n",
      "Raag Kedar\n",
      "Raag Sohani\n",
      "Anaahata by Milind Malshe\n",
      "Raag Khat Todi\n",
      "Raag Ramgauri & Gauri\n",
      "Raag Dagori_Deepki\n",
      "Raag Sohani\n",
      "Raag Triveni\n",
      "Raag Komal Rishav Aasavari\n",
      "Raag Sooha Kanada\n",
      "Raag Lalita Gauri\n",
      "Raag Hindol Pancham\n",
      "Raag Basanti Kedar\n",
      "Raag Nat Kamod\n",
      "Raag Jogiya\n",
      "Raag Jait Kalyan\n",
      "Raag Khokar\n",
      "Subha Chale Sham Dhale by Ajoy Chakrabarty\n",
      ".DS_Store\n",
      "Raga Shree - Khayal\n",
      "Introductory speech by Ajoy Chakrabarty\n",
      "Introduction about Ajoy Chakrabarty\n",
      "Thumri in Piloo\n",
      "Raga Lalit - Khayal\n",
      "Raag Bhoopali & Gavti by Omkar Dadarkar\n",
      ".DS_Store\n",
      "Raag Bhoopali\n",
      "Raag Gavti\n",
      "Raag Shree by Kaustuv Kanti Ganguli\n",
      "Raag Shree\n",
      "             RagaName                                              Pitch  \\\n",
      "0          Raag Shree  0.000000000000000000e+00\\t0.000000000000000000...   \n",
      "1       Nirgun Bhajan  0.000000000000000000e+00\\t0.000000000000000000...   \n",
      "2  Raag Lagan Gandhar  0.000000000000000000e+00\\t0.000000000000000000...   \n",
      "3          Raag Dhani  0.000000000000000000e+00\\t0.000000000000000000...   \n",
      "4     Raag Bhimpalasi  0.000000000000000000e+00\\t0.000000000000000000...   \n",
      "\n",
      "       CTonic  \n",
      "0  146.832384  \n",
      "1  189.321316  \n",
      "2  188.230906  \n",
      "3  147.682975  \n",
      "4  147.682975  \n",
      "108\n"
     ]
    }
   ],
   "source": [
    "import os \n",
    "import pandas as pd\n",
    " \n",
    "root_dir = '../dataset/Hindustani'\n",
    "data = []\n",
    "\n",
    "for concert in os.listdir(root_dir):\n",
    "    print(concert)\n",
    "    concert_path = os.path.join(root_dir, concert)\n",
    "    \n",
    "    if os.path.isdir(concert_path): \n",
    "        for raga in os.listdir(concert_path): \n",
    "            raga_path = os.path.join(concert_path, raga)\n",
    "            print(raga)\n",
    "            if os.path.isdir(raga_path): \n",
    "                ctonic_file = os.path.join(raga_path, f\"{raga}.ctonic.txt\")\n",
    "                with open(ctonic_file, 'r') as f: \n",
    "                    ctonic = f.read().strip() \n",
    "                \n",
    "                pitch_file = os.path.join(raga_path, f\"{raga}.pitch.txt\")  \n",
    "                with open(pitch_file, 'r') as f: \n",
    "\n",
    "                    pitch = f.read().strip()\n",
    "                \n",
    "                data.append({'RagaName': raga, 'Pitch': pitch, 'CTonic': ctonic});  \n",
    "                \n",
    "\n",
    "df = pd.DataFrame(data)\n",
    "print(df.head())\n",
    "print(len(df))"
   ]
  },
  {
   "cell_type": "code",
   "execution_count": null,
   "metadata": {},
   "outputs": [],
   "source": [
    "Train RNN-LSTM"
   ]
  },
  {
   "cell_type": "code",
   "execution_count": 3,
   "metadata": {},
   "outputs": [
    {
     "ename": "ModuleNotFoundError",
     "evalue": "No module named 'tensorflow'",
     "output_type": "error",
     "traceback": [
      "\u001b[0;31m---------------------------------------------------------------------------\u001b[0m",
      "\u001b[0;31mModuleNotFoundError\u001b[0m                       Traceback (most recent call last)",
      "Cell \u001b[0;32mIn[3], line 4\u001b[0m\n\u001b[1;32m      2\u001b[0m \u001b[38;5;28;01mimport\u001b[39;00m \u001b[38;5;21;01mnumpy\u001b[39;00m \u001b[38;5;28;01mas\u001b[39;00m \u001b[38;5;21;01mnp\u001b[39;00m\n\u001b[1;32m      3\u001b[0m \u001b[38;5;28;01mfrom\u001b[39;00m \u001b[38;5;21;01msklearn\u001b[39;00m\u001b[38;5;21;01m.\u001b[39;00m\u001b[38;5;21;01mmodel_selection\u001b[39;00m \u001b[38;5;28;01mimport\u001b[39;00m train_test_split\n\u001b[0;32m----> 4\u001b[0m \u001b[38;5;28;01mimport\u001b[39;00m \u001b[38;5;21;01mtensorflow\u001b[39;00m\u001b[38;5;21;01m.\u001b[39;00m\u001b[38;5;21;01mkeras\u001b[39;00m \u001b[38;5;28;01mas\u001b[39;00m \u001b[38;5;21;01mkeras\u001b[39;00m\n\u001b[1;32m      5\u001b[0m \u001b[38;5;28;01mimport\u001b[39;00m \u001b[38;5;21;01mmatplotlib\u001b[39;00m\u001b[38;5;21;01m.\u001b[39;00m\u001b[38;5;21;01mpyplot\u001b[39;00m \u001b[38;5;28;01mas\u001b[39;00m \u001b[38;5;21;01mplt\u001b[39;00m\n",
      "\u001b[0;31mModuleNotFoundError\u001b[0m: No module named 'tensorflow'"
     ]
    }
   ],
   "source": [
    "import json\n",
    "import numpy as np\n",
    "from sklearn.model_selection import train_test_split\n",
    "import tensorflow.keras as keras\n",
    "import matplotlib.pyplot as plt\n"
   ]
  },
  {
   "cell_type": "code",
   "execution_count": null,
   "metadata": {},
   "outputs": [],
   "source": [
    "X = df.iloc[:, 0:-1]\n",
    "y = df.iloc[:, -1]\n",
    "\n",
    "X_train, X_test, y_train, y_test = train_test_split(X, y, test_size=0.2)"
   ]
  },
  {
   "cell_type": "markdown",
   "metadata": {},
   "source": [
    "Build Model "
   ]
  },
  {
   "cell_type": "code",
   "execution_count": null,
   "metadata": {},
   "outputs": [],
   "source": [
    "input_shape = (X_train.shape[1], X_train.shape[2])"
   ]
  },
  {
   "cell_type": "code",
   "execution_count": null,
   "metadata": {},
   "outputs": [],
   "source": [
    "model = keras.Sequential()\n",
    "model.add(keras.layers.LSTM(64, input_shape=input_shape, return_sequences=True))\n",
    "model.add(keras.layers.LSTM(64))"
   ]
  },
  {
   "cell_type": "code",
   "execution_count": null,
   "metadata": {},
   "outputs": [],
   "source": [
    "model.add(keras.layers.Dense(64, activation='relu'))\n",
    "model.add(keras.layers.Dropout(0.3))"
   ]
  },
  {
   "cell_type": "code",
   "execution_count": null,
   "metadata": {},
   "outputs": [],
   "source": [
    "model.add(keras.layers.Dense(10, activation='softmax'))"
   ]
  },
  {
   "cell_type": "markdown",
   "metadata": {},
   "source": [
    "Compile Model"
   ]
  },
  {
   "cell_type": "code",
   "execution_count": null,
   "metadata": {},
   "outputs": [],
   "source": [
    "optimiser = keras.optimizers.Adam(learning_rate=0.0001)\n",
    "model.compile(optimizer=optimiser,\n",
    "                  loss='sparse_categorical_crossentropy',\n",
    "                  metrics=['accuracy'])\n",
    "\n",
    "model.summary()"
   ]
  },
  {
   "cell_type": "markdown",
   "metadata": {},
   "source": [
    "Train Model"
   ]
  },
  {
   "cell_type": "code",
   "execution_count": null,
   "metadata": {},
   "outputs": [],
   "source": [
    "history = model.fit(X_train, y_train, validation_data=(X_validation, y_validation), batch_size=32, epochs=30)"
   ]
  },
  {
   "cell_type": "markdown",
   "metadata": {},
   "source": [
    "Plot Accuracy Loss"
   ]
  },
  {
   "cell_type": "code",
   "execution_count": null,
   "metadata": {},
   "outputs": [],
   "source": [
    "fig, axs = plt.subplots(2)\n",
    "\n",
    "# create accuracy sublpot\n",
    "axs[0].plot(history.history[\"accuracy\"], label=\"train accuracy\")\n",
    "axs[0].plot(history.history[\"val_accuracy\"], label=\"test accuracy\")\n",
    "axs[0].set_ylabel(\"Accuracy\")\n",
    "axs[0].legend(loc=\"lower right\")\n",
    "axs[0].set_title(\"Accuracy eval\")\n",
    "\n",
    "# create error sublpot\n",
    "axs[1].plot(history.history[\"loss\"], label=\"train error\")\n",
    "axs[1].plot(history.history[\"val_loss\"], label=\"test error\")\n",
    "axs[1].set_ylabel(\"Error\")\n",
    "axs[1].set_xlabel(\"Epoch\")\n",
    "axs[1].legend(loc=\"upper right\")\n",
    "axs[1].set_title(\"Error eval\")\n",
    "\n",
    "plt.show()"
   ]
  },
  {
   "cell_type": "markdown",
   "metadata": {},
   "source": [
    "Evaluation on Test Set"
   ]
  },
  {
   "cell_type": "code",
   "execution_count": null,
   "metadata": {},
   "outputs": [],
   "source": [
    "test_loss, test_acc = model.evaluate(X_test, y_test, verbose=2)\n",
    "\n",
    "print('\\nTest accuracy:', test_acc)\n",
    "\n",
    "print('\\nTest Loss', test_loss)"
   ]
  }
 ],
 "metadata": {
  "kernelspec": {
   "display_name": "Python 3 (ipykernel)",
   "language": "python",
   "name": "python3"
  },
  "language_info": {
   "codemirror_mode": {
    "name": "ipython",
    "version": 3
   },
   "file_extension": ".py",
   "mimetype": "text/x-python",
   "name": "python",
   "nbconvert_exporter": "python",
   "pygments_lexer": "ipython3",
   "version": "3.8.16"
  }
 },
 "nbformat": 4,
 "nbformat_minor": 2
}
